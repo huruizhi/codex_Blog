{
 "cells": [
  {
   "cell_type": "markdown",
   "id": "ef3f97a6",
   "metadata": {},
   "source": [
    "# Sample Notebook\n",
    "This notebook showcases multiple features."
   ]
  },
  {
   "cell_type": "markdown",
   "id": "ebeaac08",
   "metadata": {},
   "source": [
    "## Fibonacci Sequence\n",
    "Generate Fibonacci numbers."
   ]
  },
  {
   "cell_type": "code",
   "execution_count": 1,
   "id": "c3eae22b",
   "metadata": {},
   "outputs": [
    {
     "data": {
      "text/plain": [
       "[0, 1, 1, 2, 3, 5, 8, 13, 21, 34]"
      ]
     },
     "execution_count": 1,
     "metadata": {},
     "output_type": "execute_result"
    }
   ],
   "source": [
    "def fib(n):\n",
    "    a, b = 0, 1\n",
    "    seq = []\n",
    "    while len(seq) < n:\n",
    "        seq.append(a)\n",
    "        a, b = b, a + b\n",
    "    return seq\n",
    "\n",
    "fib(10)"
   ]
  },
  {
   "cell_type": "markdown",
   "id": "f1e7491d",
   "metadata": {},
   "source": [
    "## Factorial Function\n",
    "Let's compute factorials for a few numbers."
   ]
  },
  {
   "cell_type": "code",
   "execution_count": 2,
   "id": "cdd02ea1",
   "metadata": {},
   "outputs": [
    {
     "data": {
      "text/plain": [
       "[1, 1, 2, 6, 24, 120]"
      ]
     },
     "execution_count": 2,
     "metadata": {},
     "output_type": "execute_result"
    }
   ],
   "source": [
    "def factorial(n):\n",
    "    if n == 0:\n",
    "        return 1\n",
    "    return n * factorial(n-1)\n",
    "\n",
    "[factorial(i) for i in range(6)]"
   ]
  },
  {
   "cell_type": "markdown",
   "id": "4cb78ce1",
   "metadata": {},
   "source": [
    "## Lists and Code Blocks\n",
    "- Fruits\n",
    "  - Apple\n",
    "  - Banana\n",
    "- Vegetables\n",
    "  - Carrot\n",
    "\n",
    "```python\n",
    "for i in range(3):\n",
    "    print(i)\n",
    "```"
   ]
  }
 ],
 "metadata": {},
 "nbformat": 4,
 "nbformat_minor": 2
}
